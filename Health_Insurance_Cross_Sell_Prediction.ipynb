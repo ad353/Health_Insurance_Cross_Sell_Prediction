{
  "cells": [
    {
      "cell_type": "markdown",
      "metadata": {
        "id": "vncDsAP0Gaoa"
      },
      "source": [
        "# **Project Name**    -  Health Insurance Cross Sell Prediction\n",
        "\n"
      ]
    },
    {
      "cell_type": "markdown",
      "metadata": {
        "id": "beRrZCGUAJYm"
      },
      "source": [
        "##### Project Type    - Classification\n",
        "##### Contribution    - Individual"
      ]
    },
    {
      "cell_type": "markdown",
      "metadata": {
        "id": "FJNUwmbgGyua"
      },
      "source": [
        "# **Project Summary -**"
      ]
    },
    {
      "cell_type": "markdown",
      "metadata": {
        "id": "F6v_1wHtG2nS"
      },
      "source": [
        "An insurance policy is an arrangement by which a company undertakes to provide a guarantee of compensation for specified loss, damage, illness, or death in return for the payment of a specified premium There are multiple factors that play a major role in capturing customers for any insurance policy. Here we have information about demographics such as age, gender, region code, and vehicle damage, vehicle age, annual premium, policy sourcing channel. Based on the previous trend, this data analysis and prediction with machine learning models can help us understand what are the reasons for news popularity on social media and obtain the best classification model. We have a dataset which contains information about demographics (gender, age, region code type), Vehicles (Vehicle Age, Damage), Policy (Premium, sourcing channel) etc. related to a person who is interested in vehicle insurance. Predicting whether a customer would be interested in buying Vehicle Insurance so that the company can then accordingly plan its communication strategy to reach out to those customers and optimise its business model and revenue."
      ]
    },
    {
      "cell_type": "markdown",
      "metadata": {
        "id": "w6K7xa23Elo4"
      },
      "source": [
        "# **GitHub Link -**"
      ]
    },
    {
      "cell_type": "markdown",
      "metadata": {
        "id": "h1o69JH3Eqqn"
      },
      "source": [
        "https://github.com/ad353/Health_Insurance_Cross_Sell_Prediction/blob/main/Health_Insurance_Cross_Sell_Prediction.ipynb"
      ]
    },
    {
      "cell_type": "markdown",
      "metadata": {
        "id": "yQaldy8SH6Dl"
      },
      "source": [
        "# **Problem Statement**\n"
      ]
    },
    {
      "cell_type": "markdown",
      "metadata": {
        "id": "DpeJGUA3kjGy"
      },
      "source": [
        "Our client is an Insurance company that has provided Health Insurance to its customers now they need our help in building a model to predict whether the policyholders (customers) will also be interested in Vehicle Insurance provided by the company."
      ]
    },
    {
      "cell_type": "markdown",
      "metadata": {
        "id": "O_i_v8NEhb9l"
      },
      "source": [
        "# ***Let's Begin !***"
      ]
    },
    {
      "cell_type": "markdown",
      "metadata": {
        "id": "HhfV-JJviCcP"
      },
      "source": [
        "## ***1. Know Your Data***"
      ]
    },
    {
      "cell_type": "markdown",
      "metadata": {
        "id": "Y3lxredqlCYt"
      },
      "source": [
        "### Import Libraries"
      ]
    },
    {
      "cell_type": "code",
      "execution_count": null,
      "metadata": {
        "id": "M8Vqi-pPk-HR"
      },
      "outputs": [],
      "source": [
        "import numpy as np\n",
        "import pandas as pd\n",
        "import matplotlib.pyplot as plt\n",
        "import seaborn as sns\n",
        "%matplotlib inline\n",
        "\n",
        "from sklearn.preprocessing import LabelEncoder\n",
        "from sklearn.ensemble import ExtraTreesClassifier\n",
        "from sklearn.model_selection import train_test_split\n",
        "from sklearn.preprocessing import StandardScaler\n",
        "from sklearn.linear_model import LogisticRegression\n",
        "from sklearn.tree import DecisionTreeClassifier\n",
        "from sklearn.ensemble import RandomForestClassifier\n",
        "from xgboost import XGBClassifier\n",
        "\n",
        "from sklearn.metrics import accuracy_score\n",
        "from sklearn.metrics import precision_score\n",
        "from sklearn.metrics import recall_score\n",
        "from sklearn.metrics import f1_score\n",
        "from sklearn.metrics import confusion_matrix\n",
        "from sklearn.metrics import classification_report\n",
        "from sklearn.metrics import roc_auc_score\n",
        "from sklearn.metrics import roc_curve\n",
        "\n",
        "from sklearn.model_selection import GridSearchCV\n",
        "from scipy.stats import randint\n",
        "from scipy.stats import randint as sp_randint\n",
        "\n",
        "sns.set_style('darkgrid')\n",
        "\n",
        "import warnings\n",
        "warnings.filterwarnings('ignore')"
      ]
    },
    {
      "cell_type": "code",
      "source": [
        "pip install imblearn"
      ],
      "metadata": {
        "id": "6Sj8CGZuV0aj"
      },
      "execution_count": null,
      "outputs": []
    },
    {
      "cell_type": "markdown",
      "metadata": {
        "id": "3RnN4peoiCZX"
      },
      "source": [
        "### Dataset Loading"
      ]
    },
    {
      "cell_type": "code",
      "source": [
        "from google.colab import drive\n",
        "drive.mount('/content/drive')"
      ],
      "metadata": {
        "id": "lUGH6CvfRZu0"
      },
      "execution_count": null,
      "outputs": []
    },
    {
      "cell_type": "code",
      "execution_count": null,
      "metadata": {
        "id": "4CkvbW_SlZ_R"
      },
      "outputs": [],
      "source": [
        "df=pd.read_csv(\"/content/drive/MyDrive/Project/Classification/TRAIN-HEALTH INSURANCE CROSS SELL PREDICTION.csv\",encoding=\"latin-1\")"
      ]
    },
    {
      "cell_type": "markdown",
      "metadata": {
        "id": "x71ZqKXriCWQ"
      },
      "source": [
        "### Dataset First View"
      ]
    },
    {
      "cell_type": "code",
      "execution_count": null,
      "metadata": {
        "id": "LWNFOSvLl09H"
      },
      "outputs": [],
      "source": [
        "df.head()"
      ]
    },
    {
      "cell_type": "markdown",
      "metadata": {
        "id": "7hBIi_osiCS2"
      },
      "source": [
        "### Dataset Rows & Columns count"
      ]
    },
    {
      "cell_type": "code",
      "execution_count": null,
      "metadata": {
        "id": "Kllu7SJgmLij"
      },
      "outputs": [],
      "source": [
        "print(\"Total no. of rows \",df.shape[0])\n",
        "print(\"Total no. of columns \",df.shape[1])"
      ]
    },
    {
      "cell_type": "markdown",
      "metadata": {
        "id": "JlHwYmJAmNHm"
      },
      "source": [
        "### Dataset Information"
      ]
    },
    {
      "cell_type": "code",
      "execution_count": null,
      "metadata": {
        "id": "e9hRXRi6meOf"
      },
      "outputs": [],
      "source": [
        "df.info()"
      ]
    },
    {
      "cell_type": "markdown",
      "metadata": {
        "id": "35m5QtbWiB9F"
      },
      "source": [
        "#### Duplicate Values"
      ]
    },
    {
      "cell_type": "code",
      "execution_count": null,
      "metadata": {
        "id": "1sLdpKYkmox0"
      },
      "outputs": [],
      "source": [
        "print(\"There are {} duplicates present.\".format(df.duplicated().sum()))"
      ]
    },
    {
      "cell_type": "markdown",
      "metadata": {
        "id": "PoPl-ycgm1ru"
      },
      "source": [
        "#### Missing Values/Null Values"
      ]
    },
    {
      "cell_type": "code",
      "execution_count": null,
      "metadata": {
        "id": "GgHWkxvamxVg"
      },
      "outputs": [],
      "source": [
        "# Missing Values/Null Values Count\n",
        "df.isnull().sum()"
      ]
    },
    {
      "cell_type": "code",
      "execution_count": null,
      "metadata": {
        "id": "3q5wnI3om9sJ"
      },
      "outputs": [],
      "source": [
        "# Visualizing the missing values\n",
        "sns.heatmap(df.isnull(),cmap=\"viridis\",yticklabels=False)\n",
        "plt.title(\"Visualizing missing values\",fontsize=12)\n",
        "plt.show()"
      ]
    },
    {
      "cell_type": "markdown",
      "metadata": {
        "id": "H0kj-8xxnORC"
      },
      "source": [
        "### What did you know about your dataset?"
      ]
    },
    {
      "cell_type": "markdown",
      "metadata": {
        "id": "gfoNAAC-nUe_"
      },
      "source": [
        "- Our dataset contains 381109 rows and 12 columns\n",
        "- We do not have null values in dataset"
      ]
    },
    {
      "cell_type": "markdown",
      "metadata": {
        "id": "nA9Y7ga8ng1Z"
      },
      "source": [
        "## ***2. Understanding Your Variables***"
      ]
    },
    {
      "cell_type": "code",
      "execution_count": null,
      "metadata": {
        "id": "j7xfkqrt5Ag5"
      },
      "outputs": [],
      "source": [
        "# Dataset Columns\n",
        "df.columns"
      ]
    },
    {
      "cell_type": "code",
      "execution_count": null,
      "metadata": {
        "id": "DnOaZdaE5Q5t"
      },
      "outputs": [],
      "source": [
        "# Dataset Describe\n",
        "df.describe()"
      ]
    },
    {
      "cell_type": "markdown",
      "metadata": {
        "id": "PBTbrJXOngz2"
      },
      "source": [
        "### Variables Description"
      ]
    },
    {
      "cell_type": "markdown",
      "metadata": {
        "id": "aJV4KIxSnxay"
      },
      "source": [
        "- **id** - Unique ID for Customer\n",
        "- **Gender** - Gender of Customer\n",
        "- **Age** - Age of Customer\n",
        "- **Driving_License** - 1: Customer has DL, 0 : Customer does not have DL\n",
        "- **Region_Code** - Unique code for the region of the customer\n",
        "- **Previously_Insured** - 1 : Customer already has Vehicle Insurance, 0 : Customer doesn't have Vehicle Insurance\n",
        "- **Vehicle_Age** - Age of the vehicle\n",
        "- **Vehicle_Damage** - 1: Customer got his/her vehicle damaged in the past. 0 : Customer didn't get his/her vehicle damaged in the past.\n",
        "- **Annual_Premium** - The amount customer needs to pay as premium\n",
        "- **Policy_Sales_Channel** - Anonymized Code for the channel of outreaching to the customer ie. Different Agents, Over Mail, Over Phone, In Person, etc.\n",
        "- **Vintage** - Number of Days, Customer has been associated with the company\n",
        "- **Response** - 1 : Customer is interested 0 : Customer is not interested"
      ]
    },
    {
      "cell_type": "markdown",
      "metadata": {
        "id": "u3PMJOP6ngxN"
      },
      "source": [
        "### Check Unique Values for each variable."
      ]
    },
    {
      "cell_type": "code",
      "execution_count": null,
      "metadata": {
        "id": "zms12Yq5n-jE"
      },
      "outputs": [],
      "source": [
        "# Check Unique Values for each variable.\n",
        "df.nunique().sort_values(ascending=True)"
      ]
    },
    {
      "cell_type": "markdown",
      "metadata": {
        "id": "dauF4eBmngu3"
      },
      "source": [
        "## 3. ***Data Wrangling***"
      ]
    },
    {
      "cell_type": "markdown",
      "metadata": {
        "id": "bKJF3rekwFvQ"
      },
      "source": [
        "### Data Wrangling Code"
      ]
    },
    {
      "cell_type": "code",
      "execution_count": null,
      "metadata": {
        "id": "wk-9a2fpoLcV"
      },
      "outputs": [],
      "source": [
        "# Assingning numericals column of df to variable numerical_cols\n",
        "numerical_cols = list(df.describe())\n",
        "numerical_df = df[numerical_cols]\n",
        "numerical_df.head()"
      ]
    },
    {
      "cell_type": "code",
      "execution_count": null,
      "metadata": {
        "id": "8A2OMA6uRODD"
      },
      "outputs": [],
      "source": [
        "# Assigning catagoricals column of df to variable catagorical_cols\n",
        "categorical_cols=list(set(df.columns)-set(numerical_cols))\n",
        "categorical_df=df[categorical_cols]\n",
        "categorical_df.head()"
      ]
    },
    {
      "cell_type": "markdown",
      "metadata": {
        "id": "MSa1f5Uengrz"
      },
      "source": [
        "### What all manipulations have you done and insights you found?"
      ]
    },
    {
      "cell_type": "markdown",
      "metadata": {
        "id": "LbyXE7I1olp8"
      },
      "source": [
        "We have divided the dataframe into two dataframes, namely Numerical df and Categorical df."
      ]
    },
    {
      "cell_type": "markdown",
      "metadata": {
        "id": "GF8Ens_Soomf"
      },
      "source": [
        "## ***4. Data Vizualization, Storytelling & Experimenting with charts : Understand the relationships between variables***"
      ]
    },
    {
      "cell_type": "markdown",
      "metadata": {
        "id": "0wOQAZs5pc--"
      },
      "source": [
        "#### Chart - 1"
      ]
    },
    {
      "cell_type": "code",
      "execution_count": null,
      "metadata": {
        "id": "7v_ESjsspbW7"
      },
      "outputs": [],
      "source": [
        "plt.figure(figsize=(8,6))\n",
        "sns.countplot(x='Response',data=df,palette=\"rocket\")\n",
        "plt.title(\"Not-Interested vs Interested Customers\",fontsize=15)\n",
        "plt.xlabel('Response',fontsize=12)\n",
        "plt.ylabel('Count',fontsize=12)\n",
        "plt.show()"
      ]
    },
    {
      "cell_type": "markdown",
      "metadata": {
        "id": "K5QZ13OEpz2H"
      },
      "source": [
        "##### 1. Why did you pick the specific chart?"
      ]
    },
    {
      "cell_type": "markdown",
      "metadata": {
        "id": "XESiWehPqBRc"
      },
      "source": [
        "Countplots are effective at highlighting imbalances in data."
      ]
    },
    {
      "cell_type": "markdown",
      "metadata": {
        "id": "lQ7QKXXCp7Bj"
      },
      "source": [
        "##### 2. What is/are the insight(s) found from the chart?"
      ]
    },
    {
      "cell_type": "markdown",
      "metadata": {
        "id": "C_j1G7yiqdRP"
      },
      "source": [
        "The data is highly imbalanced"
      ]
    },
    {
      "cell_type": "markdown",
      "metadata": {
        "id": "448CDAPjqfQr"
      },
      "source": [
        "##### 3. Will the gained insights help creating a positive business impact?\n",
        "Are there any insights that lead to negative growth? Justify with specific reason."
      ]
    },
    {
      "cell_type": "markdown",
      "metadata": {
        "id": "3cspy4FjqxJW"
      },
      "source": [
        "Yes,the gained insights help creating a positive business impact"
      ]
    },
    {
      "cell_type": "markdown",
      "metadata": {
        "id": "KSlN3yHqYklG"
      },
      "source": [
        "#### Chart - 2"
      ]
    },
    {
      "cell_type": "code",
      "execution_count": null,
      "metadata": {
        "id": "R4YgtaqtYklH"
      },
      "outputs": [],
      "source": [
        "print(df['Gender'].value_counts())\n",
        "df['Gender'].value_counts().plot(kind='pie',\n",
        "                              figsize=(15,6),\n",
        "                               autopct=\"%1.1f%%\")\n",
        "plt.title('Distribution of Gender',fontsize=20)\n",
        "plt.show()"
      ]
    },
    {
      "cell_type": "markdown",
      "metadata": {
        "id": "t6dVpIINYklI"
      },
      "source": [
        "##### 1. Why did you pick the specific chart?"
      ]
    },
    {
      "cell_type": "markdown",
      "metadata": {
        "id": "5aaW0BYyYklI"
      },
      "source": [
        "Pie charts are effective for displaying the distribution of categories as parts of a whole. In the case of gender distribution, it's easy to see the relative proportions of males and females within the dataset."
      ]
    },
    {
      "cell_type": "markdown",
      "metadata": {
        "id": "ijmpgYnKYklI"
      },
      "source": [
        "##### 2. What is/are the insight(s) found from the chart?"
      ]
    },
    {
      "cell_type": "markdown",
      "metadata": {
        "id": "PSx9atu2YklI"
      },
      "source": [
        "There are 206089 males i.e (54.1%)  and 175020 females i.e(45.9%). Males are little bit more in comparison to females"
      ]
    },
    {
      "cell_type": "markdown",
      "metadata": {
        "id": "-JiQyfWJYklI"
      },
      "source": [
        "##### 3. Will the gained insights help creating a positive business impact?\n",
        "Are there any insights that lead to negative growth? Justify with specific reason."
      ]
    },
    {
      "cell_type": "markdown",
      "metadata": {
        "id": "BcBbebzrYklV"
      },
      "source": [
        "Understanding the gender distribution of customer base can be valuable for targeted marketing efforts."
      ]
    },
    {
      "cell_type": "markdown",
      "metadata": {
        "id": "EM7whBJCYoAo"
      },
      "source": [
        "#### Chart - 3"
      ]
    },
    {
      "cell_type": "code",
      "execution_count": null,
      "metadata": {
        "id": "t6GMdE67YoAp"
      },
      "outputs": [],
      "source": [
        "plt.figure(figsize=(16,10))\n",
        "sns.countplot(x='Age',data=df)\n",
        "plt.title(\"Distribution of Age\")\n",
        "plt.xticks(rotation=90)\n",
        "plt.show()"
      ]
    },
    {
      "cell_type": "markdown",
      "metadata": {
        "id": "fge-S5ZAYoAp"
      },
      "source": [
        "##### 1. Why did you pick the specific chart?"
      ]
    },
    {
      "cell_type": "markdown",
      "metadata": {
        "id": "5dBItgRVYoAp"
      },
      "source": [
        "To show distribution of Age"
      ]
    },
    {
      "cell_type": "markdown",
      "metadata": {
        "id": "85gYPyotYoAp"
      },
      "source": [
        "##### 2. What is/are the insight(s) found from the chart?"
      ]
    },
    {
      "cell_type": "markdown",
      "metadata": {
        "id": "4jstXR6OYoAp"
      },
      "source": [
        "From the above distribution of age we can see that most of the customers age is between 21 to 25 years.There are few Customers above the age of 60 years"
      ]
    },
    {
      "cell_type": "markdown",
      "metadata": {
        "id": "RoGjAbkUYoAp"
      },
      "source": [
        "##### 3. Will the gained insights help creating a positive business impact?\n",
        "Are there any insights that lead to negative growth? Justify with specific reason."
      ]
    },
    {
      "cell_type": "markdown",
      "metadata": {
        "id": "zfJ8IqMcYoAp"
      },
      "source": [
        "Understanding the age distribution of customer base can be valuable for targeted marketing efforts. Different age groups may have varying preferences, needs, and behaviors, which can inform  marketing strategies."
      ]
    },
    {
      "cell_type": "markdown",
      "metadata": {
        "id": "4Of9eVA-YrdM"
      },
      "source": [
        "#### Chart - 4"
      ]
    },
    {
      "cell_type": "code",
      "execution_count": null,
      "metadata": {
        "id": "irlUoxc8YrdO"
      },
      "outputs": [],
      "source": [
        "plt.figure(figsize=(8,6))\n",
        "sns.countplot(x='Driving_License',hue=\"Response\",data=df,palette=\"seismic\")\n",
        "plt.title(\"Driving License with Response\",fontsize=15)\n",
        "plt.xlabel('Driving_License',fontsize=12)\n",
        "plt.ylabel('Count',fontsize=12)\n",
        "plt.show()"
      ]
    },
    {
      "cell_type": "markdown",
      "metadata": {
        "id": "iky9q4vBYrdO"
      },
      "source": [
        "##### 1. Why did you pick the specific chart?"
      ]
    },
    {
      "cell_type": "markdown",
      "metadata": {
        "id": "aJRCwT6DYrdO"
      },
      "source": [
        "To show count of customers who have DL"
      ]
    },
    {
      "cell_type": "markdown",
      "metadata": {
        "id": "F6T5p64dYrdO"
      },
      "source": [
        "##### 2. What is/are the insight(s) found from the chart?"
      ]
    },
    {
      "cell_type": "markdown",
      "metadata": {
        "id": "Xx8WAJvtYrdO"
      },
      "source": [
        "As we can see from the graph,\n",
        "Customers who are interested in Vehicle Insurance almost having driving license"
      ]
    },
    {
      "cell_type": "markdown",
      "metadata": {
        "id": "y-Ehk30pYrdP"
      },
      "source": [
        "##### 3. Will the gained insights help creating a positive business impact?\n",
        "Are there any insights that lead to negative growth? Justify with specific reason."
      ]
    },
    {
      "cell_type": "markdown",
      "metadata": {
        "id": "jLNxxz7MYrdP"
      },
      "source": [
        " Yes, the gained insights help to create a positive impact on business because on the basis of above analysis we can target those peoples who are having driving license."
      ]
    },
    {
      "cell_type": "markdown",
      "metadata": {
        "id": "bamQiAODYuh1"
      },
      "source": [
        "#### Chart - 5"
      ]
    },
    {
      "cell_type": "code",
      "execution_count": null,
      "metadata": {
        "id": "TIJwrbroYuh3"
      },
      "outputs": [],
      "source": [
        "plt.figure(figsize=(8,6))\n",
        "sns.countplot(x='Previously_Insured',hue=\"Response\",data=df,palette=\"inferno\")\n",
        "plt.title(\"Previously Insured with Response\",fontsize=15)\n",
        "plt.xlabel('Previously_Insured',fontsize=12)\n",
        "plt.ylabel('Count',fontsize=12)\n",
        "plt.show()"
      ]
    },
    {
      "cell_type": "markdown",
      "metadata": {
        "id": "QHF8YVU7Yuh3"
      },
      "source": [
        "##### 1. Why did you pick the specific chart?"
      ]
    },
    {
      "cell_type": "markdown",
      "metadata": {
        "id": "dcxuIMRPYuh3"
      },
      "source": [
        "To show count of Previously Insured customers"
      ]
    },
    {
      "cell_type": "markdown",
      "metadata": {
        "id": "GwzvFGzlYuh3"
      },
      "source": [
        "##### 2. What is/are the insight(s) found from the chart?"
      ]
    },
    {
      "cell_type": "markdown",
      "metadata": {
        "id": "uyqkiB8YYuh3"
      },
      "source": [
        "Customer who are not perviosly insured are likely to be inetrested"
      ]
    },
    {
      "cell_type": "markdown",
      "metadata": {
        "id": "qYpmQ266Yuh3"
      },
      "source": [
        "##### 3. Will the gained insights help creating a positive business impact?\n",
        "Are there any insights that lead to negative growth? Justify with specific reason."
      ]
    },
    {
      "cell_type": "markdown",
      "metadata": {
        "id": "_WtzZ_hCYuh4"
      },
      "source": [
        "We can use this insight to design targeted marketing campaigns specifically aimed at individuals who don't have previous insurance coverage. Highlighting the benefits of insurance products to this group may result in increased interest and potential new customers."
      ]
    },
    {
      "cell_type": "markdown",
      "metadata": {
        "id": "OH-pJp9IphqM"
      },
      "source": [
        "#### Chart - 6"
      ]
    },
    {
      "cell_type": "code",
      "execution_count": null,
      "metadata": {
        "id": "kuRf4wtuphqN"
      },
      "outputs": [],
      "source": [
        "plt.figure(figsize=(8,6))\n",
        "sns.countplot(x='Vehicle_Age',hue=\"Response\",data=df,palette=\"husl\")\n",
        "plt.title(\"Vehicle_Age with Response\",fontsize=15)\n",
        "plt.xlabel('Vehicle_Age',fontsize=12)\n",
        "plt.ylabel('Count',fontsize=12)\n",
        "plt.show()"
      ]
    },
    {
      "cell_type": "markdown",
      "metadata": {
        "id": "bbFf2-_FphqN"
      },
      "source": [
        "##### 1. Why did you pick the specific chart?"
      ]
    },
    {
      "cell_type": "markdown",
      "metadata": {
        "id": "loh7H2nzphqN"
      },
      "source": [
        "Countplots allow to visually compare the frequency of different categories."
      ]
    },
    {
      "cell_type": "markdown",
      "metadata": {
        "id": "_ouA3fa0phqN"
      },
      "source": [
        "##### 2. What is/are the insight(s) found from the chart?"
      ]
    },
    {
      "cell_type": "markdown",
      "metadata": {
        "id": "VECbqPI7phqN"
      },
      "source": [
        "Customers with vechicle age 1-2 years are more likely to interested as compared to the other two"
      ]
    },
    {
      "cell_type": "markdown",
      "metadata": {
        "id": "Seke61FWphqN"
      },
      "source": [
        "##### 3. Will the gained insights help creating a positive business impact?\n",
        "Are there any insights that lead to negative growth? Justify with specific reason."
      ]
    },
    {
      "cell_type": "markdown",
      "metadata": {
        "id": "DW4_bGpfphqN"
      },
      "source": [
        "We can use this insight to target marketing efforts specifically towards customers whose vehicles fall within the 1-2 year age range."
      ]
    },
    {
      "cell_type": "markdown",
      "metadata": {
        "id": "PIIx-8_IphqN"
      },
      "source": [
        "#### Chart - 7"
      ]
    },
    {
      "cell_type": "code",
      "execution_count": null,
      "metadata": {
        "id": "lqAIGUfyphqO"
      },
      "outputs": [],
      "source": [
        "print(df['Vehicle_Damage'].value_counts())\n",
        "\n",
        "df['Vehicle_Damage'].value_counts().plot(kind='pie',\n",
        "                              figsize=(15,6),\n",
        "                               autopct=\"%1.1f%%\")\n",
        "plt.title('Distribution of Vehicle_Damage',fontsize=20)\n",
        "plt.show()"
      ]
    },
    {
      "cell_type": "markdown",
      "metadata": {
        "id": "t27r6nlMphqO"
      },
      "source": [
        "##### 1. Why did you pick the specific chart?"
      ]
    },
    {
      "cell_type": "markdown",
      "metadata": {
        "id": "iv6ro40sphqO"
      },
      "source": [
        "Pie charts often include percentage labels, making it easy for viewers to see the exact percentage of each category. This can be helpful for precise communication of the distribution."
      ]
    },
    {
      "cell_type": "markdown",
      "metadata": {
        "id": "r2jJGEOYphqO"
      },
      "source": [
        "##### 2. What is/are the insight(s) found from the chart?"
      ]
    },
    {
      "cell_type": "markdown",
      "metadata": {
        "id": "Po6ZPi4hphqO"
      },
      "source": [
        "50.5% of the vehicles have past damage"
      ]
    },
    {
      "cell_type": "markdown",
      "metadata": {
        "id": "b0JNsNcRphqO"
      },
      "source": [
        "##### 3. Will the gained insights help creating a positive business impact?\n",
        "Are there any insights that lead to negative growth? Justify with specific reason."
      ]
    },
    {
      "cell_type": "markdown",
      "metadata": {
        "id": "xvSq8iUTphqO"
      },
      "source": [
        "Knowing that a significant number of customers have experienced vehicle damage, we can design marketing campaigns that emphasize the benefits of insurance."
      ]
    },
    {
      "cell_type": "markdown",
      "metadata": {
        "id": "BZR9WyysphqO"
      },
      "source": [
        "#### Chart - 8"
      ]
    },
    {
      "cell_type": "code",
      "execution_count": null,
      "metadata": {
        "id": "TdPTWpAVphqO"
      },
      "outputs": [],
      "source": [
        "plt.figure(figsize=(8,6))\n",
        "sns.distplot(df['Annual_Premium'],color=\"purple\")\n",
        "plt.title(\"Distribution of Annual premium\",fontsize=15)\n",
        "plt.show()"
      ]
    },
    {
      "cell_type": "markdown",
      "metadata": {
        "id": "jj7wYXLtphqO"
      },
      "source": [
        "##### 1. Why did you pick the specific chart?"
      ]
    },
    {
      "cell_type": "markdown",
      "metadata": {
        "id": "Ob8u6rCTphqO"
      },
      "source": [
        "Distplot helps in identifying the skewness of the data distribution."
      ]
    },
    {
      "cell_type": "markdown",
      "metadata": {
        "id": "eZrbJ2SmphqO"
      },
      "source": [
        "##### 2. What is/are the insight(s) found from the chart?"
      ]
    },
    {
      "cell_type": "markdown",
      "metadata": {
        "id": "mZtgC_hjphqO"
      },
      "source": [
        "From the distribution plot we can infer that the annual premium variable is right skewed"
      ]
    },
    {
      "cell_type": "markdown",
      "metadata": {
        "id": "rFu4xreNphqO"
      },
      "source": [
        "##### 3. Will the gained insights help creating a positive business impact?\n",
        "Are there any insights that lead to negative growth? Justify with specific reason."
      ]
    },
    {
      "cell_type": "markdown",
      "metadata": {
        "id": "ey_0qi68phqO"
      },
      "source": [
        "The insight that the annual premium variable is right-skewed can be a valuable tool for pricing, risk assessment,and marketing strategies in the insurance."
      ]
    },
    {
      "cell_type": "markdown",
      "metadata": {
        "id": "YJ55k-q6phqO"
      },
      "source": [
        "#### Chart - 9"
      ]
    },
    {
      "cell_type": "code",
      "execution_count": null,
      "metadata": {
        "id": "B2aS4O1ophqO"
      },
      "outputs": [],
      "source": [
        "plt.figure(figsize=(8,6))\n",
        "sns.boxplot(x=\"Annual_Premium\",data=df,color=\"Purple\")\n",
        "plt.title(\"Boxplot of Annual premium\",fontsize=15)\n",
        "plt.show()"
      ]
    },
    {
      "cell_type": "markdown",
      "metadata": {
        "id": "gCFgpxoyphqP"
      },
      "source": [
        "##### 1. Why did you pick the specific chart?"
      ]
    },
    {
      "cell_type": "markdown",
      "metadata": {
        "id": "TVxDimi2phqP"
      },
      "source": [
        "Boxplots make it easy to identify potential outliers in the data. Outliers are data points that fall significantly above or below the whiskers of the plot, helping to spot unusual or unexpected values."
      ]
    },
    {
      "cell_type": "markdown",
      "metadata": {
        "id": "OVtJsKN_phqQ"
      },
      "source": [
        "##### 2. What is/are the insight(s) found from the chart?"
      ]
    },
    {
      "cell_type": "markdown",
      "metadata": {
        "id": "ngGi97qjphqQ"
      },
      "source": [
        "From the boxplot we can observe lot of outliers in the variable"
      ]
    },
    {
      "cell_type": "markdown",
      "metadata": {
        "id": "lssrdh5qphqQ"
      },
      "source": [
        "##### 3. Will the gained insights help creating a positive business impact?\n",
        "Are there any insights that lead to negative growth? Justify with specific reason."
      ]
    },
    {
      "cell_type": "markdown",
      "metadata": {
        "id": "tBpY5ekJphqQ"
      },
      "source": [
        "Understanding and identifying outliers can help in risk management."
      ]
    },
    {
      "cell_type": "markdown",
      "metadata": {
        "id": "U2RJ9gkRphqQ"
      },
      "source": [
        "#### Chart - 10"
      ]
    },
    {
      "cell_type": "code",
      "execution_count": null,
      "metadata": {
        "id": "GM7a4YP4phqQ"
      },
      "outputs": [],
      "source": [
        "plt.figure(figsize=(20,5))\n",
        "sns.countplot(x='Region_Code',data=df,order=df['Region_Code'].value_counts().index)\n",
        "plt.title('Number of customers with respect to various Region code',fontsize=15)\n",
        "plt.xticks(rotation=90)\n",
        "plt.xlabel(\"Region_Code\",fontsize=12)\n",
        "plt.ylabel('Number of Customers',fontsize=12)\n",
        "plt.show()"
      ]
    },
    {
      "cell_type": "markdown",
      "metadata": {
        "id": "1M8mcRywphqQ"
      },
      "source": [
        "##### 1. Why did you pick the specific chart?"
      ]
    },
    {
      "cell_type": "markdown",
      "metadata": {
        "id": "8agQvks0phqQ"
      },
      "source": [
        "To show Number of customers with respect to various Region code"
      ]
    },
    {
      "cell_type": "markdown",
      "metadata": {
        "id": "tgIPom80phqQ"
      },
      "source": [
        "##### 2. What is/are the insight(s) found from the chart?"
      ]
    },
    {
      "cell_type": "markdown",
      "metadata": {
        "id": "Qp13pnNzphqQ"
      },
      "source": [
        "We can see most of the people are from region 28"
      ]
    },
    {
      "cell_type": "markdown",
      "metadata": {
        "id": "JMzcOPDDphqR"
      },
      "source": [
        "##### 3. Will the gained insights help creating a positive business impact?\n",
        "Are there any insights that lead to negative growth? Justify with specific reason."
      ]
    },
    {
      "cell_type": "markdown",
      "metadata": {
        "id": "R4Ka1PC2phqR"
      },
      "source": [
        "The insight that most customers are from a specific region can be a valuable tool for tailoring marketing and business strategies."
      ]
    },
    {
      "cell_type": "markdown",
      "metadata": {
        "id": "x-EpHcCOp1ci"
      },
      "source": [
        "#### Chart - 11"
      ]
    },
    {
      "cell_type": "code",
      "execution_count": null,
      "metadata": {
        "id": "mAQTIvtqp1cj"
      },
      "outputs": [],
      "source": [
        "plt.figure(figsize=(8,6))\n",
        "sns.countplot(x='Vehicle_Age',hue=\"Vehicle_Damage\",data=df,palette=\"twilight\")\n",
        "plt.title(\"Vehicle_Age vs Vehicle_Damage\",fontsize=15)\n",
        "plt.xlabel('Vehicle_Age',fontsize=12)\n",
        "plt.ylabel('Count',fontsize=12)\n",
        "plt.show()"
      ]
    },
    {
      "cell_type": "markdown",
      "metadata": {
        "id": "X_VqEhTip1ck"
      },
      "source": [
        "##### 1. Why did you pick the specific chart?"
      ]
    },
    {
      "cell_type": "markdown",
      "metadata": {
        "id": "-vsMzt_np1ck"
      },
      "source": [
        "Countplots allow to visually compare the frequency of different categories. This can be helpful for identifying imbalances, trends, or patterns in your data."
      ]
    },
    {
      "cell_type": "markdown",
      "metadata": {
        "id": "8zGJKyg5p1ck"
      },
      "source": [
        "##### 2. What is/are the insight(s) found from the chart?"
      ]
    },
    {
      "cell_type": "markdown",
      "metadata": {
        "id": "ZYdMsrqVp1ck"
      },
      "source": [
        "Vehicles in the age 1-2 year are more damaged compared to other two"
      ]
    },
    {
      "cell_type": "markdown",
      "metadata": {
        "id": "PVzmfK_Ep1ck"
      },
      "source": [
        "##### 3. Will the gained insights help creating a positive business impact?\n",
        "Are there any insights that lead to negative growth? Justify with specific reason."
      ]
    },
    {
      "cell_type": "markdown",
      "metadata": {
        "id": "druuKYZpp1ck"
      },
      "source": [
        "To offer specialized insurance products or coverage options specifically for vehicles in the 1-2 year age range."
      ]
    },
    {
      "cell_type": "markdown",
      "metadata": {
        "id": "n3dbpmDWp1ck"
      },
      "source": [
        "#### Chart - 12"
      ]
    },
    {
      "cell_type": "code",
      "execution_count": null,
      "metadata": {
        "id": "bwevp1tKp1ck"
      },
      "outputs": [],
      "source": [
        "plt.figure(figsize=(16,8))\n",
        "sns.countplot(data=df, x='Age',hue='Response', palette='Set2')\n",
        "plt.xlabel('Age response',fontsize=12)\n",
        "plt.ylabel('count',fontsize=12)\n",
        "plt.title(\"Age vs Tesponse\",fontsize=15)\n",
        "plt.show()"
      ]
    },
    {
      "cell_type": "markdown",
      "metadata": {
        "id": "ylSl6qgtp1ck"
      },
      "source": [
        "##### 1. Why did you pick the specific chart?"
      ]
    },
    {
      "cell_type": "markdown",
      "metadata": {
        "id": "m2xqNkiQp1ck"
      },
      "source": [
        "To show Distribution Age vs Response"
      ]
    },
    {
      "cell_type": "markdown",
      "metadata": {
        "id": "ZWILFDl5p1ck"
      },
      "source": [
        "##### 2. What is/are the insight(s) found from the chart?"
      ]
    },
    {
      "cell_type": "markdown",
      "metadata": {
        "id": "x-lUsV2mp1ck"
      },
      "source": [
        "People ages between from 31 to 50 are more likely to respond"
      ]
    },
    {
      "cell_type": "markdown",
      "metadata": {
        "id": "M7G43BXep1ck"
      },
      "source": [
        "##### 3. Will the gained insights help creating a positive business impact?\n",
        "Are there any insights that lead to negative growth? Justify with specific reason."
      ]
    },
    {
      "cell_type": "markdown",
      "metadata": {
        "id": "5wwDJXsLp1cl"
      },
      "source": [
        "Knowing that this age group is more responsive, insurance providers can develop insurance products or policies that are better suited to their preferences and life stages."
      ]
    },
    {
      "cell_type": "markdown",
      "metadata": {
        "id": "Ag9LCva-p1cl"
      },
      "source": [
        "#### Chart - 13"
      ]
    },
    {
      "cell_type": "code",
      "execution_count": null,
      "metadata": {
        "id": "EUfxeq9-p1cl"
      },
      "outputs": [],
      "source": [
        "sns.barplot(x='Vehicle_Age',y='Annual_Premium',data=df,palette='magma')\n",
        "plt.title(\"Vehile Age vs Annual Premium\",fontsize=15)\n",
        "plt.xlabel(\"Vehicle Age\",fontsize=12)\n",
        "plt.ylabel(\"Annual Premium\",fontsize=12)\n",
        "plt.show()"
      ]
    },
    {
      "cell_type": "markdown",
      "metadata": {
        "id": "E6MkPsBcp1cl"
      },
      "source": [
        "##### 1. Why did you pick the specific chart?"
      ]
    },
    {
      "cell_type": "markdown",
      "metadata": {
        "id": "V22bRsFWp1cl"
      },
      "source": [
        "To show Vehicle Age vs Annual Premium"
      ]
    },
    {
      "cell_type": "markdown",
      "metadata": {
        "id": "2cELzS2fp1cl"
      },
      "source": [
        "##### 2. What is/are the insight(s) found from the chart?"
      ]
    },
    {
      "cell_type": "markdown",
      "metadata": {
        "id": "ozQPc2_Ip1cl"
      },
      "source": [
        "Customer paying higher premium if age of vehicle greater than 2 years"
      ]
    },
    {
      "cell_type": "markdown",
      "metadata": {
        "id": "3MPXvC8up1cl"
      },
      "source": [
        "##### 3. Will the gained insights help creating a positive business impact?\n",
        "Are there any insights that lead to negative growth? Justify with specific reason."
      ]
    },
    {
      "cell_type": "markdown",
      "metadata": {
        "id": "GL8l1tdLp1cl"
      },
      "source": [
        "Understanding the relationship between vehicle age and premiums allows insurers to better assess risk. It helps in underwriting policies and determining the level of coverage needed for different vehicle age groups, which can lead to more effective risk management."
      ]
    },
    {
      "cell_type": "markdown",
      "metadata": {
        "id": "NC_X3p0fY2L0"
      },
      "source": [
        "#### Chart - 14"
      ]
    },
    {
      "cell_type": "code",
      "execution_count": null,
      "metadata": {
        "id": "xyC9zolEZNRQ"
      },
      "outputs": [],
      "source": [
        "plt.figure(figsize=(12,8))\n",
        "sns.heatmap(df.corr(),cmap=\"viridis\",linewidths=3,annot=True)"
      ]
    },
    {
      "cell_type": "markdown",
      "metadata": {
        "id": "UV0SzAkaZNRQ"
      },
      "source": [
        "##### 1. Why did you pick the specific chart?"
      ]
    },
    {
      "cell_type": "markdown",
      "metadata": {
        "id": "DVPuT8LYZNRQ"
      },
      "source": [
        "A correlation matrix is a table showing correlation coefficients between variables. Each cell in the table shows the correlation between two variables.\n",
        "\n",
        "As correlation matrix is used to summarize data, as an input into a more advanced analysis, and as a diagnostic for advanced analyses. The range of correlation is [-1,1]."
      ]
    },
    {
      "cell_type": "markdown",
      "metadata": {
        "id": "YPEH6qLeZNRQ"
      },
      "source": [
        "##### 2. What is/are the insight(s) found from the chart?"
      ]
    },
    {
      "cell_type": "markdown",
      "metadata": {
        "id": "bfSqtnDqZNRR"
      },
      "source": [
        "Policy_sales_channel and age is negatively correlated.\n",
        "\n",
        "There is a significant negative correlation of approximately -0.34 between \"Previously_Insured\" and \"Response.\" This suggests that customers who were previously insured are less likely to respond positively. This could be valuable information for targeting marketing efforts."
      ]
    },
    {
      "cell_type": "markdown",
      "metadata": {
        "id": "q29F0dvdveiT"
      },
      "source": [
        "#### Chart - 15"
      ]
    },
    {
      "cell_type": "code",
      "execution_count": null,
      "metadata": {
        "id": "o58-TEIhveiU"
      },
      "outputs": [],
      "source": [
        "sns.pairplot(data=df)"
      ]
    },
    {
      "cell_type": "markdown",
      "metadata": {
        "id": "EXh0U9oCveiU"
      },
      "source": [
        "##### 1. Why did you pick the specific chart?"
      ]
    },
    {
      "cell_type": "markdown",
      "metadata": {
        "id": "eMmPjTByveiU"
      },
      "source": [
        "A pairplot, also known as a scatterplot matrix, is a visualization that allows you to visualize the relationships between all pairs of variables in a dataset. It is a useful tool for data exploration because it allows you to quickly see how all of the variables in a dataset are related to one another.\n",
        "\n",
        "Thus, we used pair plot to analyse the patterns of data and realationship between the features. It's exactly same as the correlation map but here you will get the graphical representation."
      ]
    },
    {
      "cell_type": "markdown",
      "metadata": {
        "id": "22aHeOlLveiV"
      },
      "source": [
        "##### 2. What is/are the insight(s) found from the chart?"
      ]
    },
    {
      "cell_type": "markdown",
      "metadata": {
        "id": "uPQ8RGwHveiV"
      },
      "source": [
        "The graph above shows how each feature is distributed in respect to other features. Since many features have binary values, we cannot see a good relationship with other features."
      ]
    },
    {
      "cell_type": "markdown",
      "metadata": {
        "id": "yLjJCtPM0KBk"
      },
      "source": [
        "## ***5. Feature Engineering & Data Pre-processing***"
      ]
    },
    {
      "cell_type": "code",
      "execution_count": null,
      "metadata": {
        "id": "2K9c9YrnROEr"
      },
      "outputs": [],
      "source": [
        "# Creating a copy of the dataset for further feature engineering\n",
        "df1=df.copy()"
      ]
    },
    {
      "cell_type": "markdown",
      "metadata": {
        "id": "xiyOF9F70UgQ"
      },
      "source": [
        "### 1. Handling Missing Values"
      ]
    },
    {
      "cell_type": "code",
      "execution_count": null,
      "metadata": {
        "id": "iRsAHk1K0fpS"
      },
      "outputs": [],
      "source": [
        "df1.isnull().sum()"
      ]
    },
    {
      "cell_type": "markdown",
      "metadata": {
        "id": "7wuGOrhz0itI"
      },
      "source": [
        "#### What all missing value imputation techniques have you used and why did you use those techniques?"
      ]
    },
    {
      "cell_type": "markdown",
      "metadata": {
        "id": "1ixusLtI0pqI"
      },
      "source": [
        "There are no missing values present"
      ]
    },
    {
      "cell_type": "markdown",
      "metadata": {
        "id": "id1riN9m0vUs"
      },
      "source": [
        "### 2. Handling Outliers"
      ]
    },
    {
      "cell_type": "code",
      "execution_count": null,
      "metadata": {
        "id": "M6w2CzZf04JK"
      },
      "outputs": [],
      "source": [
        "# Handling Outliers & Outlier treatments"
      ]
    },
    {
      "cell_type": "code",
      "execution_count": null,
      "metadata": {
        "id": "uIsKT9p0ROEv"
      },
      "outputs": [],
      "source": [
        "for column_name in numerical_cols:\n",
        "    plt.figure(figsize=(7,5))\n",
        "    sns.boxplot(df1[column_name])\n",
        "    plt.show()"
      ]
    },
    {
      "cell_type": "code",
      "execution_count": null,
      "metadata": {
        "id": "RdXWuSrFROEv"
      },
      "outputs": [],
      "source": [
        "sns.distplot(df1['Annual_Premium'])"
      ]
    },
    {
      "cell_type": "code",
      "execution_count": null,
      "metadata": {
        "id": "rCEnXd49ROEw"
      },
      "outputs": [],
      "source": [
        "sns.boxplot(x='Annual_Premium',data=df1)"
      ]
    },
    {
      "cell_type": "code",
      "execution_count": null,
      "metadata": {
        "id": "22I-2yEDROEx"
      },
      "outputs": [],
      "source": [
        "df1['Annual_Premium'].describe()"
      ]
    },
    {
      "cell_type": "code",
      "execution_count": null,
      "metadata": {
        "id": "V0KW3Cb2ROEx"
      },
      "outputs": [],
      "source": [
        "percentile25=df1['Annual_Premium'].quantile(0.25)\n",
        "percentile75=df1['Annual_Premium'].quantile(0.75)"
      ]
    },
    {
      "cell_type": "code",
      "execution_count": null,
      "metadata": {
        "id": "YNq2p_9EROEy"
      },
      "outputs": [],
      "source": [
        "print(\"25% is {} and 75% is {}\".format(percentile25,percentile75))"
      ]
    },
    {
      "cell_type": "code",
      "execution_count": null,
      "metadata": {
        "id": "jRzNwelmROEz"
      },
      "outputs": [],
      "source": [
        "iqr=percentile75-percentile25"
      ]
    },
    {
      "cell_type": "code",
      "execution_count": null,
      "metadata": {
        "id": "tcPuvsBCROE0"
      },
      "outputs": [],
      "source": [
        "iqr"
      ]
    },
    {
      "cell_type": "code",
      "execution_count": null,
      "metadata": {
        "id": "pbYXX7nVROE0"
      },
      "outputs": [],
      "source": [
        "upper_limit = percentile75 + 1.5*iqr\n",
        "lower_limit = percentile25 - 1.5*iqr"
      ]
    },
    {
      "cell_type": "code",
      "execution_count": null,
      "metadata": {
        "id": "dlKLYRw2ROE1"
      },
      "outputs": [],
      "source": [
        "print(\"Upper limit \",upper_limit)\n",
        "print(\"Lower limit \",lower_limit)"
      ]
    },
    {
      "cell_type": "code",
      "execution_count": null,
      "metadata": {
        "id": "U70IouB2ROE2"
      },
      "outputs": [],
      "source": [
        "df1[df1['Annual_Premium']<lower_limit]"
      ]
    },
    {
      "cell_type": "code",
      "execution_count": null,
      "metadata": {
        "id": "94gEaVzrROE2"
      },
      "outputs": [],
      "source": [
        "df1[df1['Annual_Premium'] > upper_limit]"
      ]
    },
    {
      "cell_type": "code",
      "execution_count": null,
      "metadata": {
        "id": "VRoPQ1CJROE3"
      },
      "outputs": [],
      "source": [
        "# Trimming\n",
        "\n",
        "df2=df1[df1[\"Annual_Premium\"] < upper_limit]"
      ]
    },
    {
      "cell_type": "code",
      "execution_count": null,
      "metadata": {
        "id": "sseTPHlMROE4"
      },
      "outputs": [],
      "source": [
        "df2.shape"
      ]
    },
    {
      "cell_type": "code",
      "execution_count": null,
      "metadata": {
        "id": "aKCJPI24ROE4"
      },
      "outputs": [],
      "source": [
        "sns.boxplot(x=\"Annual_Premium\",data=df2)"
      ]
    },
    {
      "cell_type": "markdown",
      "metadata": {
        "id": "578E2V7j08f6"
      },
      "source": [
        "##### What all outlier treatment techniques have you used and why did you use those techniques?"
      ]
    },
    {
      "cell_type": "markdown",
      "metadata": {
        "id": "uGZz5OrT1HH-"
      },
      "source": [
        "The data is right-skewed. So to remove outliers we have used trimming"
      ]
    },
    {
      "cell_type": "markdown",
      "metadata": {
        "id": "89xtkJwZ18nB"
      },
      "source": [
        "### 3. Categorical Encoding"
      ]
    },
    {
      "cell_type": "code",
      "execution_count": null,
      "metadata": {
        "id": "21JmIYMG2hEo"
      },
      "outputs": [],
      "source": [
        "# label Encoding\n",
        "le=LabelEncoder()\n",
        "df2['Vehicle_Damage']=le.fit_transform(df2['Vehicle_Damage'])"
      ]
    },
    {
      "cell_type": "code",
      "execution_count": null,
      "metadata": {
        "id": "eaoBI3avROE7"
      },
      "outputs": [],
      "source": [
        "# One hot Enoding\n",
        "df2=pd.get_dummies(df2,columns=['Gender','Vehicle_Age'],drop_first=True)"
      ]
    },
    {
      "cell_type": "code",
      "execution_count": null,
      "metadata": {
        "id": "b81uSYqRROE8"
      },
      "outputs": [],
      "source": [
        "df2.head()"
      ]
    },
    {
      "cell_type": "markdown",
      "metadata": {
        "id": "67NQN5KX2AMe"
      },
      "source": [
        "#### What all categorical encoding techniques have you used & why did you use those techniques?"
      ]
    },
    {
      "cell_type": "markdown",
      "metadata": {
        "id": "UDaue5h32n_G"
      },
      "source": [
        "I have used Label Encoding for Vehicle_Damage column and One hot Encoding for Gender and Vehicle_Age column"
      ]
    },
    {
      "cell_type": "markdown",
      "metadata": {
        "id": "-oLEiFgy-5Pf"
      },
      "source": [
        "### 4. Feature Manipulation & Selection"
      ]
    },
    {
      "cell_type": "markdown",
      "metadata": {
        "id": "C74aWNz2AliB"
      },
      "source": [
        "#### 1. Feature Manipulation"
      ]
    },
    {
      "cell_type": "code",
      "execution_count": null,
      "metadata": {
        "id": "h1qC4yhBApWC"
      },
      "outputs": [],
      "source": [
        "# Manipulate Features to minimize feature correlation and create new features\n",
        "\n",
        "# Contain all independent variables\n",
        "X=df2.drop('Response',axis=1)\n",
        "\n",
        "# Contain dependent variable\n",
        "y=df2['Response']"
      ]
    },
    {
      "cell_type": "markdown",
      "metadata": {
        "id": "2DejudWSA-a0"
      },
      "source": [
        "#### 2. Feature Selection"
      ]
    },
    {
      "cell_type": "code",
      "execution_count": null,
      "metadata": {
        "id": "YLhe8UmaBCEE"
      },
      "outputs": [],
      "source": [
        "etc=ExtraTreesClassifier()\n",
        "etc.fit(X,y)\n",
        "print(etc.feature_importances_)\n",
        "imp_features=pd.Series(etc.feature_importances_,index=X.columns)\n",
        "imp_features.nlargest(12).plot(kind='bar')\n",
        "plt.show()"
      ]
    },
    {
      "cell_type": "code",
      "execution_count": null,
      "metadata": {
        "id": "Niq3riQiROFA"
      },
      "outputs": [],
      "source": [
        "# Dropping less important features\n",
        "X=X.drop('Driving_License',axis=1)"
      ]
    },
    {
      "cell_type": "markdown",
      "metadata": {
        "id": "pEMng2IbBLp7"
      },
      "source": [
        "##### What all feature selection methods have you used  and why?"
      ]
    },
    {
      "cell_type": "markdown",
      "metadata": {
        "id": "rb2Lh6Z8BgGs"
      },
      "source": [
        "I have used ExtraTreesClassifier to select important features from data"
      ]
    },
    {
      "cell_type": "markdown",
      "metadata": {
        "id": "rAdphbQ9Bhjc"
      },
      "source": [
        "##### Which all features you found important and why?"
      ]
    },
    {
      "cell_type": "markdown",
      "metadata": {
        "id": "fGgaEstsBnaf"
      },
      "source": [
        "'id', 'Age', 'Region_Code', 'Previously_Insured', 'Vehicle_Damage','Annual_Premium', 'Policy_Sales_Channel', 'Vintage', 'Gender_Male','Vehicle_Age_< 1 Year', 'Vehicle_Age_> 2 Years'\n",
        "\n",
        "I found these featues are important"
      ]
    },
    {
      "cell_type": "markdown",
      "metadata": {
        "id": "P1XJ9OREExlT"
      },
      "source": [
        "### 3. Handling Imbalanced Dataset"
      ]
    },
    {
      "cell_type": "markdown",
      "metadata": {
        "id": "VFOzZv6IFROw"
      },
      "source": [
        "##### Do you think the dataset is imbalanced? Explain Why."
      ]
    },
    {
      "cell_type": "markdown",
      "metadata": {
        "id": "GeKDIv7pFgcC"
      },
      "source": [
        "Yes,dataset is imbalanced"
      ]
    },
    {
      "cell_type": "code",
      "execution_count": null,
      "metadata": {
        "id": "nQsRhhZLFiDs"
      },
      "outputs": [],
      "source": [
        "# Handling Imbalanced Dataset\n",
        "from imblearn.over_sampling import RandomOverSampler\n",
        "ros=RandomOverSampler()\n",
        "X_new,y_new=ros.fit_resample(X,y)\n",
        "\n",
        "from collections import Counter\n",
        "print('Original dataset shape {}'.format(Counter(y)))\n",
        "print('Resampled dataset shape {}'.format(Counter(y_new)))\n",
        "sns.countplot(y_new,palette='husl')"
      ]
    },
    {
      "cell_type": "markdown",
      "metadata": {
        "id": "TIqpNgepFxVj"
      },
      "source": [
        "##### What technique did you use to handle the imbalance dataset and why? (If needed to be balanced)"
      ]
    },
    {
      "cell_type": "markdown",
      "metadata": {
        "id": "qbet1HwdGDTz"
      },
      "source": [
        "To handle class imbalance I have used over sampling technique"
      ]
    },
    {
      "cell_type": "markdown",
      "metadata": {
        "id": "BhH2vgX9EjGr"
      },
      "source": [
        "### 4. Data Splitting"
      ]
    },
    {
      "cell_type": "code",
      "execution_count": null,
      "metadata": {
        "id": "0CTyd2UwEyNM"
      },
      "outputs": [],
      "source": [
        "X_train, X_test, y_train, y_test = train_test_split(X_new, y_new, test_size=0.3, random_state=42)"
      ]
    },
    {
      "cell_type": "code",
      "execution_count": null,
      "metadata": {
        "id": "ywYK4as0ROFJ"
      },
      "outputs": [],
      "source": [
        "print('Shape of X_train',X_train.shape)\n",
        "print('Shape of y_train',y_train.shape)\n",
        "print('Shape of X_test',X_test.shape)\n",
        "print('Shape of y_test',y_test.shape)"
      ]
    },
    {
      "cell_type": "markdown",
      "metadata": {
        "id": "qjKvONjwE8ra"
      },
      "source": [
        "##### What data splitting ratio have you used and why?"
      ]
    },
    {
      "cell_type": "markdown",
      "metadata": {
        "id": "Y2lJ8cobFDb_"
      },
      "source": [
        "I have used spliting ratio of 70-30 i.e 70% for training and 30% for testing"
      ]
    },
    {
      "cell_type": "markdown",
      "metadata": {
        "id": "rMDnDkt2B6du"
      },
      "source": [
        "### 5. Data Scaling"
      ]
    },
    {
      "cell_type": "code",
      "execution_count": null,
      "metadata": {
        "id": "dL9LWpySC6x_"
      },
      "outputs": [],
      "source": [
        "scaler=StandardScaler()\n",
        "X_train=scaler.fit_transform(X_train)\n",
        "X_test=scaler.transform(X_test)"
      ]
    },
    {
      "cell_type": "markdown",
      "metadata": {
        "id": "yiiVWRdJDDil"
      },
      "source": [
        "##### Which method have you used to scale you data and why?"
      ]
    },
    {
      "cell_type": "markdown",
      "metadata": {
        "id": "hcR7VB-_ROFM"
      },
      "source": [
        "I have used Standardization for Data Scaling\n",
        "\n",
        "Standardization is a preprocessing technique to scale numerical features to have a mean of 0 and a standard deviation of 1"
      ]
    },
    {
      "cell_type": "markdown",
      "metadata": {
        "id": "VfCC591jGiD4"
      },
      "source": [
        "## ***6. ML Model Implementation***"
      ]
    },
    {
      "cell_type": "markdown",
      "metadata": {
        "id": "OB4l2ZhMeS1U"
      },
      "source": [
        "### ML Model - Logistic Regression"
      ]
    },
    {
      "cell_type": "code",
      "execution_count": null,
      "metadata": {
        "id": "7ebyywQieS1U"
      },
      "outputs": [],
      "source": [
        "logistic_model=LogisticRegression()\n",
        "logistic_model.fit(X_train,y_train)\n",
        "y_pred_logistic=logistic_model.predict(X_test)\n",
        "logistic_probability=logistic_model.predict_proba(X_test)[:,1]\n",
        "\n",
        "\n",
        "acc_lr=accuracy_score(y_test,y_pred_logistic)\n",
        "precision_lr=precision_lr=precision_score(y_test,y_pred_logistic)\n",
        "recall_lr=recall_score(y_test,y_pred_logistic)\n",
        "f1_score_lr=f1_score(y_test,y_pred_logistic)\n",
        "roc_lr=roc_auc_score(y_test,y_pred_logistic)"
      ]
    },
    {
      "cell_type": "code",
      "execution_count": null,
      "metadata": {
        "id": "a1R03VF5ROFO"
      },
      "outputs": [],
      "source": [
        "# Evaluation\n",
        "print(\"Accuracy_Score : \",accuracy_score(y_test,y_pred_logistic))\n",
        "print(\"Precision_Score : \",precision_score(y_test,y_pred_logistic))\n",
        "print(\"Recall_Score : \",recall_score(y_test,y_pred_logistic))\n",
        "print(\"f1_Score : \",f1_score(y_test,y_pred_logistic))\n",
        "print(\"ROC_AUC_Score : \",roc_auc_score(y_test,y_pred_logistic))"
      ]
    },
    {
      "cell_type": "markdown",
      "metadata": {
        "id": "UCJhozhYROFO"
      },
      "source": [
        "### Logistic Regression ROC Curve"
      ]
    },
    {
      "cell_type": "code",
      "execution_count": null,
      "metadata": {
        "id": "DXX5xtyMROFP"
      },
      "outputs": [],
      "source": [
        "fpr_logistic,tpr_logistic, _ = roc_curve(y_test,logistic_probability)\n",
        "\n",
        "plt.title('Logistic Regression ROC curve')\n",
        "plt.xlabel('FPR')\n",
        "plt.ylabel('TPR')\n",
        "\n",
        "plt.plot(fpr_logistic,tpr_logistic)\n",
        "plt.plot((0,1), ls='dashed',color='black')\n",
        "plt.show()"
      ]
    },
    {
      "cell_type": "markdown",
      "metadata": {
        "id": "Tqf28caqROFP"
      },
      "source": [
        "### Logistic Regression Confusion Matrix"
      ]
    },
    {
      "cell_type": "code",
      "execution_count": null,
      "metadata": {
        "id": "SzKdzz2AROFQ"
      },
      "outputs": [],
      "source": [
        "cm_logistic = confusion_matrix(y_test, y_pred_logistic)\n",
        "print(cm_logistic)\n",
        "\n",
        "plt.figure(figsize=(4, 4))\n",
        "sns.heatmap(cm_logistic, annot=True,fmt='d',cmap='BuGn')\n",
        "plt.xlabel('Predictions', fontsize=15)\n",
        "plt.ylabel('Actuals', fontsize=15)\n",
        "plt.title('Confusion Matrix for Logistic Regression', fontsize=15)\n",
        "plt.show()"
      ]
    },
    {
      "cell_type": "markdown",
      "metadata": {
        "id": "ArJBuiUVfxKd"
      },
      "source": [
        "#### 1. Explain the ML Model used and it's performance using Evaluation metric Score Chart."
      ]
    },
    {
      "cell_type": "code",
      "execution_count": null,
      "metadata": {
        "id": "rqD5ZohzfxKe"
      },
      "outputs": [],
      "source": [
        "print(classification_report(y_test,y_pred_logistic))"
      ]
    },
    {
      "cell_type": "markdown",
      "metadata": {
        "id": "4qY1EAkEfxKe"
      },
      "source": [
        "#### 2. Cross- Validation & Hyperparameter Tuning"
      ]
    },
    {
      "cell_type": "code",
      "execution_count": null,
      "metadata": {
        "id": "Dy61ujd6fxKe"
      },
      "outputs": [],
      "source": [
        "\n",
        "logistic_model_tuning=LogisticRegression()\n",
        "param_grid={'C': [0.001, 0.01, 0.1, 1, 10, 100],'penalty':['l2','l1', 'elasticnet']}\n",
        "grid_LogReg=GridSearchCV(estimator=logistic_model_tuning,param_grid=param_grid,cv=5)\n",
        "grid_LogReg.fit(X_train,y_train)\n",
        "y_tuned_logistic=grid_LogReg.predict(X_test)\n",
        "y_tuned_log_prob=grid_LogReg.predict_proba(X_test)[:,1]\n",
        "print(\"Best cross-validation score:\",grid_LogReg.best_score_)\n",
        "print('Best Parameters:',grid_LogReg.best_params_)\n",
        "\n",
        "\n",
        "acc_lr_tun=accuracy_score(y_test,y_tuned_logistic)\n",
        "precision_lr_tun=precision_lr=precision_score(y_test,y_tuned_logistic)\n",
        "recall_lr_tun=recall_score(y_test,y_tuned_logistic)\n",
        "f1_score_lr_tun=f1_score(y_test,y_tuned_logistic)\n",
        "roc_lr_tun=roc_auc_score(y_test,y_tuned_logistic)\n"
      ]
    },
    {
      "cell_type": "code",
      "execution_count": null,
      "metadata": {
        "id": "FkIMvUe1ROFS"
      },
      "outputs": [],
      "source": [
        "\n",
        "# Metrics after tuning\n",
        "print(\"Accuracy_Score : \",accuracy_score(y_test,y_tuned_logistic))\n",
        "print(\"Precision_Score : \",precision_score(y_test,y_tuned_logistic))\n",
        "print(\"Recall_Score : \",recall_score(y_test,y_tuned_logistic))\n",
        "print(\"f1_Score : \",f1_score(y_test,y_tuned_logistic))\n",
        "print(\"ROC_AUC_Score : \",roc_auc_score(y_test,y_tuned_logistic))\n"
      ]
    },
    {
      "cell_type": "markdown",
      "metadata": {
        "id": "7UcduJPYROFS"
      },
      "source": [
        "### ROC Curve for Logistic Regression after tuning"
      ]
    },
    {
      "cell_type": "code",
      "execution_count": null,
      "metadata": {
        "id": "Ajal-ytGROFT"
      },
      "outputs": [],
      "source": [
        "\n",
        "fpr_logistic_tuning,tpr_logistic_tuning, _ = roc_curve(y_test,y_tuned_log_prob)\n",
        "\n",
        "plt.title('ROC Curve for Logistic Regression after tuning')\n",
        "plt.xlabel('FPR')\n",
        "plt.ylabel('TPR')\n",
        "\n",
        "plt.plot(fpr_logistic_tuning,tpr_logistic_tuning)\n",
        "plt.plot((0,1), ls='dashed',color='black')\n",
        "plt.show()\n"
      ]
    },
    {
      "cell_type": "markdown",
      "metadata": {
        "id": "yR6jyGvqROFT"
      },
      "source": [
        "### Confusion Matrix for Logistic Regression after tuning"
      ]
    },
    {
      "cell_type": "code",
      "execution_count": null,
      "metadata": {
        "id": "09wgHZclROFT"
      },
      "outputs": [],
      "source": [
        "\n",
        "cm_logistic_tuning = confusion_matrix(y_test,y_tuned_logistic)\n",
        "print(cm_logistic_tuning)\n",
        "\n",
        "plt.figure(figsize=(4, 4))\n",
        "sns.heatmap(cm_logistic_tuning, annot=True,fmt='d',cmap='Blues')\n",
        "plt.xlabel('Predictions', fontsize=15)\n",
        "plt.ylabel('Actuals', fontsize=15)\n",
        "plt.title('Confusion Matrix for Logistic Regression', fontsize=15)\n",
        "plt.show()\n"
      ]
    },
    {
      "cell_type": "code",
      "execution_count": null,
      "metadata": {
        "id": "slaECAAoROFU"
      },
      "outputs": [],
      "source": [
        "print(classification_report(y_test,y_tuned_logistic))"
      ]
    },
    {
      "cell_type": "markdown",
      "metadata": {
        "id": "PiV4Ypx8fxKe"
      },
      "source": [
        "##### Which hyperparameter optimization technique have you used and why?"
      ]
    },
    {
      "cell_type": "markdown",
      "metadata": {
        "id": "negyGRa7fxKf"
      },
      "source": [
        " I have used GridSearchCV for hyper parameter tuning.GridSearchCV performs an exhaustive search over a specified hyperparameter space, creating a grid of all possible hyperparameter combinations, and evaluating the performance of each combination using cross-validation. It then selects the combination of hyperparameters that results in the best performance on the validation set."
      ]
    },
    {
      "cell_type": "markdown",
      "metadata": {
        "id": "TfvqoZmBfxKf"
      },
      "source": [
        "##### Have you seen any improvement? Note down the improvement with updates Evaluation metric Score Chart."
      ]
    },
    {
      "cell_type": "markdown",
      "metadata": {
        "id": "OaLui8CcfxKf"
      },
      "source": [
        "I cannot see much improvement in the model's performance after hyperparameter tuning"
      ]
    },
    {
      "cell_type": "markdown",
      "metadata": {
        "id": "dJ2tPlVmpsJ0"
      },
      "source": [
        "### ML Model - Deision Tree"
      ]
    },
    {
      "cell_type": "code",
      "execution_count": null,
      "metadata": {
        "id": "ewgQRL7VROFW"
      },
      "outputs": [],
      "source": [
        "DT_model=DecisionTreeClassifier()\n",
        "DT_model.fit(X_train,y_train)\n",
        "y_pred_DT=DT_model.predict(X_test)\n",
        "DT_probability=DT_model.predict_proba(X_test)[:,1]\n",
        "\n",
        "acc_DT=accuracy_score(y_test,y_pred_DT)\n",
        "precision_DT=precision_lr=precision_score(y_test,y_pred_DT)\n",
        "recall_DT=recall_score(y_test,y_pred_DT)\n",
        "f1_score_DT=f1_score(y_test,y_pred_DT)\n",
        "roc_DT=roc_auc_score(y_test,y_pred_DT)"
      ]
    },
    {
      "cell_type": "code",
      "execution_count": null,
      "metadata": {
        "id": "3j-uIGIOROFW"
      },
      "outputs": [],
      "source": [
        "# Evaluation\n",
        "print(\"Accuracy_Score : \",accuracy_score(y_test,y_pred_DT))\n",
        "print(\"Precision_Score : \",precision_score(y_test,y_pred_DT))\n",
        "print(\"Recall_Score : \",recall_score(y_test,y_pred_DT))\n",
        "print(\"f1_Score : \",f1_score(y_test,y_pred_DT))\n",
        "print(\"ROC_AUC_Score : \",roc_auc_score(y_test,y_pred_DT))"
      ]
    },
    {
      "cell_type": "markdown",
      "metadata": {
        "id": "BzJC7DGhROFX"
      },
      "source": [
        "### Decision Tree ROC Curve"
      ]
    },
    {
      "cell_type": "code",
      "execution_count": null,
      "metadata": {
        "id": "AlODnaf4ROFX"
      },
      "outputs": [],
      "source": [
        "fpr_DT,tpr_DT, _ = roc_curve(y_test,DT_probability)\n",
        "\n",
        "plt.title('Decision Tree ROC curve')\n",
        "plt.xlabel('FPR')\n",
        "plt.ylabel('TPR')\n",
        "\n",
        "plt.plot(fpr_DT,tpr_DT)\n",
        "plt.plot((0,1), ls='dashed',color='black')\n",
        "plt.show()"
      ]
    },
    {
      "cell_type": "markdown",
      "metadata": {
        "id": "ZdxtUCcZROFY"
      },
      "source": [
        "### Decision Tree Confusion Matrix"
      ]
    },
    {
      "cell_type": "code",
      "execution_count": null,
      "metadata": {
        "id": "GFiyPKXDROFY"
      },
      "outputs": [],
      "source": [
        "cm_DT = confusion_matrix(y_test,y_pred_DT)\n",
        "print(cm_DT)\n",
        "\n",
        "plt.figure(figsize=(4, 4))\n",
        "sns.heatmap(cm_DT, annot=True,fmt='d',cmap='BuGn')\n",
        "plt.xlabel('Predictions', fontsize=15)\n",
        "plt.ylabel('Actuals', fontsize=15)\n",
        "plt.title('Confusion Matrix for Decision Tree', fontsize=15)\n",
        "plt.show()"
      ]
    },
    {
      "cell_type": "markdown",
      "metadata": {
        "id": "JWYfwnehpsJ1"
      },
      "source": [
        "#### 1. Explain the ML Model used and it's performance using Evaluation metric Score Chart."
      ]
    },
    {
      "cell_type": "code",
      "execution_count": null,
      "metadata": {
        "id": "yEl-hgQWpsJ1"
      },
      "outputs": [],
      "source": [
        "print(classification_report(y_test,y_pred_DT))"
      ]
    },
    {
      "cell_type": "markdown",
      "metadata": {
        "id": "-jK_YjpMpsJ2"
      },
      "source": [
        "#### 2. Cross- Validation & Hyperparameter Tuning"
      ]
    },
    {
      "cell_type": "code",
      "execution_count": null,
      "metadata": {
        "id": "Dn0EOfS6psJ2"
      },
      "outputs": [],
      "source": [
        "\n",
        "DT_model_tuning=DecisionTreeClassifier(max_depth=None,max_features='log2',min_samples_leaf=1,min_samples_split=2)\n",
        "\n",
        "DT_model_tuning.fit(X_train,y_train)\n",
        "y_tuned_DT=DT_model_tuning.predict(X_test)\n",
        "y_tuned_DT_prob=DT_model_tuning.predict_proba(X_test)[:,1]\n",
        "\n",
        "acc_DT_tun=accuracy_score(y_test,y_tuned_DT)\n",
        "precision_DT_tun=precision_lr=precision_score(y_test,y_tuned_DT)\n",
        "recall_DT_tun=recall_score(y_test,y_tuned_DT)\n",
        "f1_score_DT_tun=f1_score(y_test,y_tuned_DT)\n",
        "roc_DT_tun=roc_auc_score(y_test,y_tuned_DT)\n"
      ]
    },
    {
      "cell_type": "code",
      "execution_count": null,
      "metadata": {
        "id": "5hMDLQ2KROFa"
      },
      "outputs": [],
      "source": [
        "\n",
        "# Metrics after tuning\n",
        "print(\"Accuracy_Score : \",accuracy_score(y_test,y_tuned_DT))\n",
        "print(\"Precision_Score : \",precision_score(y_test,y_tuned_DT))\n",
        "print(\"Recall_Score : \",recall_score(y_test,y_tuned_DT))\n",
        "print(\"f1_Score : \",f1_score(y_test,y_tuned_DT))\n",
        "print(\"ROC_AUC_Score : \",roc_auc_score(y_test,y_tuned_DT))\n"
      ]
    },
    {
      "cell_type": "markdown",
      "metadata": {
        "id": "3K5eCk0-ROFa"
      },
      "source": [
        "### ROC Curve for Deision Tree after tuning"
      ]
    },
    {
      "cell_type": "code",
      "execution_count": null,
      "metadata": {
        "id": "XxipDYuUROFb"
      },
      "outputs": [],
      "source": [
        "\n",
        "fpr_DT_tuning,tpr_DT_tuning, _ = roc_curve(y_test,y_tuned_DT_prob)\n",
        "\n",
        "plt.title('ROC Curve for Decision Tree after tuning')\n",
        "plt.xlabel('FPR')\n",
        "plt.ylabel('TPR')\n",
        "\n",
        "plt.plot(fpr_DT_tuning,tpr_DT_tuning)\n",
        "plt.plot((0,1), ls='dashed',color='black')\n",
        "plt.show()\n"
      ]
    },
    {
      "cell_type": "markdown",
      "metadata": {
        "id": "UqnMk4eYROFb"
      },
      "source": [
        "### Confusion Matrix for Deision Tree after tuning"
      ]
    },
    {
      "cell_type": "code",
      "execution_count": null,
      "metadata": {
        "id": "hjRJJBkWROFb"
      },
      "outputs": [],
      "source": [
        "\n",
        "cm_DT_tuning = confusion_matrix(y_test,y_tuned_DT)\n",
        "print(cm_DT_tuning)\n",
        "\n",
        "plt.figure(figsize=(4, 4))\n",
        "sns.heatmap(cm_DT_tuning, annot=True,fmt='d',cmap='Blues')\n",
        "plt.xlabel('Predictions', fontsize=15)\n",
        "plt.ylabel('Actuals', fontsize=15)\n",
        "plt.title('Confusion Matrix for Decision Tree after tuning', fontsize=15)\n",
        "plt.show()\n"
      ]
    },
    {
      "cell_type": "code",
      "execution_count": null,
      "metadata": {
        "id": "IT77aCriROFc"
      },
      "outputs": [],
      "source": [
        "print(classification_report(y_test,y_tuned_DT))"
      ]
    },
    {
      "cell_type": "markdown",
      "metadata": {
        "id": "HAih1iBOpsJ2"
      },
      "source": [
        "##### Which hyperparameter optimization technique have you used and why?"
      ]
    },
    {
      "cell_type": "markdown",
      "metadata": {
        "id": "9kBgjYcdpsJ2"
      },
      "source": [
        "I used Grid Search as the hyperparameter optimization technique. Grid Search is a simple and commonly used method for hyperparameter tuning. It systematically searches through a predefined set of hyperparameter combinations to find the best configuration that maximizes the model's performance."
      ]
    },
    {
      "cell_type": "markdown",
      "metadata": {
        "id": "zVGeBEFhpsJ2"
      },
      "source": [
        "##### Have you seen any improvement? Note down the improvement with updates Evaluation metric Score Chart."
      ]
    },
    {
      "cell_type": "markdown",
      "metadata": {
        "id": "74yRdG6UpsJ3"
      },
      "source": [
        "I cannot see much improvement in the model's performance after hyperparameter tuning"
      ]
    },
    {
      "cell_type": "markdown",
      "metadata": {
        "id": "Fze-IPXLpx6K"
      },
      "source": [
        "### ML Model - Random Forest"
      ]
    },
    {
      "cell_type": "code",
      "execution_count": null,
      "metadata": {
        "id": "FFrSXAtrpx6M"
      },
      "outputs": [],
      "source": [
        "RF_model=RandomForestClassifier()\n",
        "RF_model.fit(X_train,y_train)\n",
        "y_pred_RF=RF_model.predict(X_test)\n",
        "RF_probability=RF_model.predict_proba(X_test)[:,1]\n",
        "\n",
        "acc_RF=accuracy_score(y_test,y_pred_RF)\n",
        "precision_RF=precision_lr=precision_score(y_test,y_pred_RF)\n",
        "recall_RF=recall_score(y_test,y_pred_RF)\n",
        "f1_score_RF=f1_score(y_test,y_pred_RF)\n",
        "roc_RF=roc_auc_score(y_test,y_pred_RF)"
      ]
    },
    {
      "cell_type": "code",
      "execution_count": null,
      "metadata": {
        "id": "0d1Tr5UrROFe"
      },
      "outputs": [],
      "source": [
        "# Evaluation\n",
        "print(\"Accuracy_Score : \",accuracy_score(y_test,y_pred_RF))\n",
        "print(\"Precision_Score : \",precision_score(y_test,y_pred_RF))\n",
        "print(\"Recall_Score : \",recall_score(y_test,y_pred_RF))\n",
        "print(\"f1_Score : \",f1_score(y_test,y_pred_RF))\n",
        "print(\"ROC_AUC_Score : \",roc_auc_score(y_test,y_pred_RF))"
      ]
    },
    {
      "cell_type": "markdown",
      "metadata": {
        "id": "PKi-mvjHROFe"
      },
      "source": [
        "### Random Forest ROC Curve"
      ]
    },
    {
      "cell_type": "code",
      "execution_count": null,
      "metadata": {
        "id": "EXKrhHPeROFf"
      },
      "outputs": [],
      "source": [
        "fpr_RF,tpr_RF, _ = roc_curve(y_test,RF_probability)\n",
        "\n",
        "plt.title('Random Forest ROC curve')\n",
        "plt.xlabel('FPR')\n",
        "plt.ylabel('TPR')\n",
        "\n",
        "plt.plot(fpr_RF,tpr_RF)\n",
        "plt.plot((0,1), ls='dashed',color='black')\n",
        "plt.show()"
      ]
    },
    {
      "cell_type": "markdown",
      "metadata": {
        "id": "r7_SpSF0ROFf"
      },
      "source": [
        "### Random Forest Confusion Matrix"
      ]
    },
    {
      "cell_type": "code",
      "execution_count": null,
      "metadata": {
        "id": "3rWOlXHDROFf"
      },
      "outputs": [],
      "source": [
        "cm_RF = confusion_matrix(y_test, y_pred_RF)\n",
        "print(cm_RF)\n",
        "\n",
        "plt.figure(figsize=(4, 4))\n",
        "sns.heatmap(cm_RF, annot=True,fmt='d',cmap='BuGn')\n",
        "plt.xlabel('Predictions', fontsize=15)\n",
        "plt.ylabel('Actuals', fontsize=15)\n",
        "plt.title('Confusion Matrix for Random Forest', fontsize=15)\n",
        "plt.show()"
      ]
    },
    {
      "cell_type": "markdown",
      "metadata": {
        "id": "7AN1z2sKpx6M"
      },
      "source": [
        "#### 1. Explain the ML Model used and it's performance using Evaluation metric Score Chart."
      ]
    },
    {
      "cell_type": "code",
      "execution_count": null,
      "metadata": {
        "id": "xIY4lxxGpx6M",
        "scrolled": true
      },
      "outputs": [],
      "source": [
        "print(classification_report(y_test,y_pred_RF))"
      ]
    },
    {
      "cell_type": "markdown",
      "metadata": {
        "id": "9PIHJqyupx6M"
      },
      "source": [
        "#### 2. Cross- Validation & Hyperparameter Tuning"
      ]
    },
    {
      "cell_type": "code",
      "execution_count": null,
      "metadata": {
        "id": "eSVXuaSKpx6M"
      },
      "outputs": [],
      "source": [
        "RF_model_tuning=RandomForestClassifier(n_estimators=100,max_depth=None,min_samples_split=2,min_samples_leaf=1,max_features='log2',n_jobs=-1)\n",
        "\n",
        "RF_model_tuning.fit(X_train,y_train)\n",
        "y_tuned_RF=RF_model_tuning.predict(X_test)\n",
        "y_tuned_RF_prob=RF_model_tuning.predict_proba(X_test)[:,1]\n",
        "\n",
        "\n",
        "acc_RF_tun=accuracy_score(y_test,y_tuned_RF)\n",
        "precision_RF_tun=precision_lr=precision_score(y_test,y_tuned_RF)\n",
        "recall_RF_tun=recall_score(y_test,y_tuned_RF)\n",
        "f1_score_RF_tun=f1_score(y_test,y_tuned_RF)\n",
        "roc_RF_tun=roc_auc_score(y_test,y_tuned_RF)"
      ]
    },
    {
      "cell_type": "code",
      "execution_count": null,
      "metadata": {
        "id": "0KTW9SMMROFh"
      },
      "outputs": [],
      "source": [
        "# Evaluation\n",
        "print(\"Accuracy_Score : \",accuracy_score(y_test,y_tuned_RF))\n",
        "print(\"Precision_Score : \",precision_score(y_test,y_tuned_RF))\n",
        "print(\"Recall_Score : \",recall_score(y_test,y_tuned_RF))\n",
        "print(\"f1_Score : \",f1_score(y_test,y_tuned_RF))\n",
        "print(\"ROC_AUC_Score : \",roc_auc_score(y_test,y_tuned_RF))"
      ]
    },
    {
      "cell_type": "markdown",
      "metadata": {
        "id": "a34TBPnQROFh"
      },
      "source": [
        "### ROC Curve for Random Forest after tuning"
      ]
    },
    {
      "cell_type": "code",
      "execution_count": null,
      "metadata": {
        "id": "pTN3kufmROFh"
      },
      "outputs": [],
      "source": [
        "fpr_RF_tuning,tpr_RF_tuning, _ = roc_curve(y_test,y_tuned_RF_prob)\n",
        "\n",
        "plt.title('ROC Curve for Random Forest after tuning')\n",
        "plt.xlabel('FPR')\n",
        "plt.ylabel('TPR')\n",
        "\n",
        "plt.plot(fpr_RF_tuning,tpr_RF_tuning)\n",
        "plt.plot((0,1), ls='dashed',color='black')\n",
        "plt.show()"
      ]
    },
    {
      "cell_type": "markdown",
      "metadata": {
        "id": "p_5zIyIEROFi"
      },
      "source": [
        "### Confusion Matrix for Random Forest after tuning"
      ]
    },
    {
      "cell_type": "code",
      "execution_count": null,
      "metadata": {
        "id": "k7vfMDmxROFi"
      },
      "outputs": [],
      "source": [
        "cm_RF_tuning = confusion_matrix(y_test,y_tuned_RF)\n",
        "print(cm_RF_tuning)\n",
        "\n",
        "plt.figure(figsize=(4, 4))\n",
        "sns.heatmap(cm_RF_tuning, annot=True,fmt='d',cmap='Blues')\n",
        "plt.xlabel('Predictions', fontsize=15)\n",
        "plt.ylabel('Actuals', fontsize=15)\n",
        "plt.title('Confusion Matrix for Random Forest after tuning', fontsize=15)\n",
        "plt.show()\n"
      ]
    },
    {
      "cell_type": "code",
      "execution_count": null,
      "metadata": {
        "id": "D24xYLjOROFi"
      },
      "outputs": [],
      "source": [
        "print(classification_report(y_test,y_tuned_RF))"
      ]
    },
    {
      "cell_type": "markdown",
      "metadata": {
        "id": "_-qAgymDpx6N"
      },
      "source": [
        "##### Which hyperparameter optimization technique have you used and why?"
      ]
    },
    {
      "cell_type": "markdown",
      "metadata": {
        "id": "lQMffxkwpx6N"
      },
      "source": [
        "I used Grid Search as the hyperparameter optimization technique. Grid Search is a simple and commonly used method for hyperparameter tuning. It systematically searches through a predefined set of hyperparameter combinations to find the best configuration that maximizes the model's performance."
      ]
    },
    {
      "cell_type": "markdown",
      "metadata": {
        "id": "Z-hykwinpx6N"
      },
      "source": [
        "##### Have you seen any improvement? Note down the improvement with updates Evaluation metric Score Chart."
      ]
    },
    {
      "cell_type": "markdown",
      "metadata": {
        "id": "MzVzZC6opx6N"
      },
      "source": [
        "There is slight improvement after tuning the model."
      ]
    },
    {
      "cell_type": "markdown",
      "metadata": {
        "id": "V7-OTjChROFj"
      },
      "source": [
        "### ML Model - XGB Classifier"
      ]
    },
    {
      "cell_type": "code",
      "execution_count": null,
      "metadata": {
        "id": "nxg7sJFZROFj"
      },
      "outputs": [],
      "source": [
        "XGB_classifier_model=XGBClassifier()\n",
        "XGB_classifier_model.fit(X_train,y_train)\n",
        "y_pred_XGB=XGB_classifier_model.predict(X_test)\n",
        "XGB_probability=XGB_classifier_model.predict_proba(X_test)[:,1]\n",
        "\n",
        "\n",
        "acc_XGB=accuracy_score(y_test,y_pred_XGB)\n",
        "precision_XGB=precision_lr=precision_score(y_test,y_pred_XGB)\n",
        "recall_XGB=recall_score(y_test,y_pred_XGB)\n",
        "f1_score_XGB=f1_score(y_test,y_pred_XGB)\n",
        "roc_XGB=roc_auc_score(y_test,y_pred_XGB)"
      ]
    },
    {
      "cell_type": "code",
      "execution_count": null,
      "metadata": {
        "id": "aDp2waPZROFj"
      },
      "outputs": [],
      "source": [
        "# Evaluation\n",
        "print(\"Accuracy_Score : \",accuracy_score(y_test,y_pred_XGB))\n",
        "print(\"Precision_Score : \",precision_score(y_test,y_pred_XGB))\n",
        "print(\"Recall_Score : \",recall_score(y_test,y_pred_XGB))\n",
        "print(\"f1_Score : \",f1_score(y_test,y_pred_XGB))\n",
        "print(\"ROC_AUC_Score : \",roc_auc_score(y_test,y_pred_XGB))"
      ]
    },
    {
      "cell_type": "markdown",
      "metadata": {
        "id": "8hyW0hIeROFk"
      },
      "source": [
        "### XGB Classifier ROC Curve"
      ]
    },
    {
      "cell_type": "code",
      "execution_count": null,
      "metadata": {
        "id": "aq4r_Kf4ROFk"
      },
      "outputs": [],
      "source": [
        "fpr_XGB,tpr_XGB, _ = roc_curve(y_test,XGB_probability)\n",
        "\n",
        "plt.title('XGB Classifier ROC curve')\n",
        "plt.xlabel('FPR')\n",
        "plt.ylabel('TPR')\n",
        "\n",
        "plt.plot(fpr_XGB,tpr_XGB)\n",
        "plt.plot((0,1), ls='dashed',color='black')\n",
        "plt.show()"
      ]
    },
    {
      "cell_type": "markdown",
      "metadata": {
        "id": "jzsifPGEROFk"
      },
      "source": [
        "### XGB Classifier Confusion Matrix"
      ]
    },
    {
      "cell_type": "code",
      "execution_count": null,
      "metadata": {
        "id": "HgvdsH06ROFk"
      },
      "outputs": [],
      "source": [
        "cm_XGB = confusion_matrix(y_test, y_pred_XGB)\n",
        "print(cm_XGB)\n",
        "\n",
        "plt.figure(figsize=(4, 4))\n",
        "sns.heatmap(cm_RF, annot=True,fmt='d',cmap='BuGn')\n",
        "plt.xlabel('Predictions', fontsize=15)\n",
        "plt.ylabel('Actuals', fontsize=15)\n",
        "plt.title('Confusion Matrix for XGB Classifier', fontsize=15)\n",
        "plt.show()"
      ]
    },
    {
      "cell_type": "markdown",
      "metadata": {
        "id": "lJ3dbHK5ROFl"
      },
      "source": [
        "#### 1. Explain the ML Model used and it's performance using Evaluation metric Score Chart."
      ]
    },
    {
      "cell_type": "code",
      "execution_count": null,
      "metadata": {
        "id": "oxJ6FFueROFl"
      },
      "outputs": [],
      "source": [
        "print(classification_report(y_test,y_pred_XGB))"
      ]
    },
    {
      "cell_type": "markdown",
      "metadata": {
        "id": "CF5_HuVBROFl"
      },
      "source": [
        "#### 2. Cross- Validation & Hyperparameter Tuning"
      ]
    },
    {
      "cell_type": "code",
      "execution_count": null,
      "metadata": {
        "id": "mcSXbXUPROFl"
      },
      "outputs": [],
      "source": [
        "XGB_model_tuning=XGBClassifier(n_estimators=150,max_depth=8,learning_rate=0.3)\n",
        "XGB_model_tuning.fit(X_train,y_train)\n",
        "y_tuned_XGB=XGB_model_tuning.predict(X_test)\n",
        "y_tuned_XGB_prob=XGB_model_tuning.predict_proba(X_test)[:,1]\n",
        "\n",
        "\n",
        "acc_XGB_tun=accuracy_score(y_test,y_tuned_XGB)\n",
        "precision_XGB_tun=precision_lr=precision_score(y_test,y_tuned_XGB)\n",
        "recall_XGB_tun=recall_score(y_test,y_tuned_XGB)\n",
        "f1_score_XGB_tun=f1_score(y_test,y_tuned_XGB)\n",
        "roc_XGB_tun=roc_auc_score(y_test,y_tuned_XGB)"
      ]
    },
    {
      "cell_type": "code",
      "execution_count": null,
      "metadata": {
        "id": "kULpa2xdROFl"
      },
      "outputs": [],
      "source": [
        "print(\"Accuracy_Score : \",accuracy_score(y_test,y_tuned_XGB))\n",
        "print(\"Precision_Score : \",precision_score(y_test,y_tuned_XGB))\n",
        "print(\"Recall_Score : \",recall_score(y_test,y_tuned_XGB))\n",
        "print(\"f1_Score : \",f1_score(y_test,y_tuned_XGB))\n",
        "print(\"ROC_AUC_Score : \",roc_auc_score(y_test,y_tuned_XGB))"
      ]
    },
    {
      "cell_type": "markdown",
      "metadata": {
        "id": "4UPNcI5xROFm"
      },
      "source": [
        "### ROC Curve for XGB Classifier after tuning"
      ]
    },
    {
      "cell_type": "code",
      "execution_count": null,
      "metadata": {
        "id": "dMCnkI1tROFm"
      },
      "outputs": [],
      "source": [
        "fpr_XGB_tuning,tpr_XGB_tuning, _ = roc_curve(y_test,y_tuned_XGB_prob)\n",
        "\n",
        "plt.title('ROC Curve for XGB Classifier after tuning')\n",
        "plt.xlabel('FPR')\n",
        "plt.ylabel('TPR')\n",
        "\n",
        "plt.plot(fpr_XGB_tuning,tpr_XGB_tuning)\n",
        "plt.plot((0,1), ls='dashed',color='black')\n",
        "plt.show()"
      ]
    },
    {
      "cell_type": "markdown",
      "metadata": {
        "id": "APSJ5PoeROFm"
      },
      "source": [
        "### Confusion Matrix for XGB Classifier after tuning"
      ]
    },
    {
      "cell_type": "code",
      "execution_count": null,
      "metadata": {
        "id": "sWbrOdtuROFm"
      },
      "outputs": [],
      "source": [
        "cm_XGB_tuning = confusion_matrix(y_test,y_tuned_XGB)\n",
        "print(cm_XGB_tuning)\n",
        "\n",
        "plt.figure(figsize=(4, 4))\n",
        "sns.heatmap(cm_XGB_tuning, annot=True,fmt='d',cmap='Blues')\n",
        "plt.xlabel('Predictions', fontsize=15)\n",
        "plt.ylabel('Actuals', fontsize=15)\n",
        "plt.title('Confusion Matrix for XGB Classifier after tuning', fontsize=15)\n",
        "plt.show()\n"
      ]
    },
    {
      "cell_type": "code",
      "execution_count": null,
      "metadata": {
        "id": "uwTniwcEROFn"
      },
      "outputs": [],
      "source": [
        "print(classification_report(y_test,y_tuned_XGB))"
      ]
    },
    {
      "cell_type": "markdown",
      "metadata": {
        "id": "LQNBumEGROFn"
      },
      "source": [
        "##### Which hyperparameter optimization technique have you used and why?"
      ]
    },
    {
      "cell_type": "markdown",
      "metadata": {
        "id": "iOoMFSBRROFn"
      },
      "source": [
        "I used Grid Search as the hyperparameter optimization technique. Grid Search is a simple and commonly used method for hyperparameter tuning. It systematically searches through a predefined set of hyperparameter combinations to find the best configuration that maximizes the model's performance."
      ]
    },
    {
      "cell_type": "markdown",
      "metadata": {
        "id": "mgL-5zRYROFn"
      },
      "source": [
        "##### Have you seen any improvement? Note down the improvement with updates Evaluation metric Score Chart."
      ]
    },
    {
      "cell_type": "markdown",
      "metadata": {
        "id": "cJ3QTH7PROFn"
      },
      "source": [
        "There is slight improvement after tuning the model."
      ]
    },
    {
      "cell_type": "markdown",
      "metadata": {
        "id": "v_xzQE9wROFo"
      },
      "source": [
        "### Compare Models"
      ]
    },
    {
      "cell_type": "code",
      "execution_count": null,
      "metadata": {
        "id": "FVTpAD2aROFo"
      },
      "outputs": [],
      "source": [
        "ind=['Logistic Regression','Logistic Regression after tuning','Decision Tree','Decision Tree after tuning',\n",
        "     'Random Forest','Random Forest after tuning','XGB Classifier','XGB Classifier after tuning']\n",
        "data={\"Accuracy\":[acc_lr,acc_lr_tun,acc_DT,acc_DT_tun,acc_RF,acc_RF_tun,acc_XGB,acc_XGB_tun],\n",
        "      \"Recall\":[recall_lr,recall_lr_tun,recall_DT,recall_DT_tun,recall_RF,recall_RF_tun,recall_XGB,recall_XGB_tun],\n",
        "      \"Precision\":[precision_lr,precision_lr_tun,precision_DT,precision_DT_tun,precision_RF,precision_RF_tun,precision_XGB,precision_XGB_tun],\n",
        "    'f1_score':[f1_score_lr,f1_score_lr_tun,f1_score_DT,f1_score_DT_tun,f1_score_RF,f1_score_RF_tun,f1_score_XGB,f1_score_XGB_tun],\n",
        "      \"ROC_AUC\":[roc_lr,roc_lr_tun,roc_DT,roc_DT_tun,roc_RF,roc_RF_tun,roc_XGB,roc_XGB_tun]}\n",
        "result=pd.DataFrame(data=data,index=ind)\n",
        "result"
      ]
    },
    {
      "cell_type": "markdown",
      "metadata": {
        "id": "h_CCil-SKHpo"
      },
      "source": [
        "### 1. Which Evaluation metrics did you consider for a positive business impact and why?"
      ]
    },
    {
      "cell_type": "markdown",
      "metadata": {
        "id": "jHVz9hHDKFms"
      },
      "source": [
        "The recall score is the best evaluation metric for model selection because we want to avoid missing potential customers interested in buying insurance."
      ]
    },
    {
      "cell_type": "markdown",
      "metadata": {
        "id": "cBFFvTBNJzUa"
      },
      "source": [
        "### 2. Which ML model did you choose from the above created models as your final prediction model and why?"
      ]
    },
    {
      "cell_type": "markdown",
      "metadata": {
        "id": "6ksF5Q1LKTVm"
      },
      "source": [
        "Random Forest performs the best among the four classification methods used."
      ]
    },
    {
      "cell_type": "markdown",
      "metadata": {
        "id": "gCX9965dhzqZ"
      },
      "source": [
        "# **Conclusion**"
      ]
    },
    {
      "cell_type": "markdown",
      "metadata": {
        "id": "Fjb1IsQkh3yE"
      },
      "source": [
        "- Customer who are not perviosly insured are likely to be inetrested.\n",
        "- Customers with vechicle age 1-2 years are more likely to interested as compared to the other two.\n",
        "- We can see most of the people are from region 28.\n",
        "- Customer paying higher premium if age of vehicle is greater than 2 years\n",
        "- Vehicles in the age 1-2 year are more damaged compared to other two.\n",
        "- People ages between from 31 to 50 are more likely to respond."
      ]
    },
    {
      "cell_type": "markdown",
      "metadata": {
        "id": "gIfDvo9L0UH2"
      },
      "source": [
        "### ***Hurrah! You have successfully completed your Machine Learning Capstone Project !!!***"
      ]
    }
  ],
  "metadata": {
    "colab": {
      "collapsed_sections": [
        "gIfDvo9L0UH2"
      ],
      "private_outputs": true,
      "provenance": []
    },
    "kernelspec": {
      "display_name": "Python 3 (ipykernel)",
      "language": "python",
      "name": "python3"
    },
    "language_info": {
      "codemirror_mode": {
        "name": "ipython",
        "version": 3
      },
      "file_extension": ".py",
      "mimetype": "text/x-python",
      "name": "python",
      "nbconvert_exporter": "python",
      "pygments_lexer": "ipython3",
      "version": "3.9.12"
    }
  },
  "nbformat": 4,
  "nbformat_minor": 0
}